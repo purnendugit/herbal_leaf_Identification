{
 "cells": [
  {
   "cell_type": "code",
   "execution_count": 1,
   "id": "954085d1",
   "metadata": {},
   "outputs": [],
   "source": [
    "import numpy as np\n",
    "import tensorflow as tf\n",
    "from keras.preprocessing.image import ImageDataGenerator"
   ]
  },
  {
   "cell_type": "code",
   "execution_count": 2,
   "id": "9e9a12cc",
   "metadata": {},
   "outputs": [
    {
     "name": "stdout",
     "output_type": "stream",
     "text": [
      "Found 1028 images belonging to 8 classes.\n"
     ]
    }
   ],
   "source": [
    "train_datagen = ImageDataGenerator(\n",
    "        rescale=1./255,\n",
    "        shear_range=0.2,\n",
    "        zoom_range=0.2,\n",
    "        horizontal_flip=True)\n",
    "training_set = train_datagen.flow_from_directory(\n",
    "        'training_set',\n",
    "        target_size=(64, 64),\n",
    "        batch_size=32,\n",
    "        class_mode='categorical')"
   ]
  },
  {
   "cell_type": "code",
   "execution_count": 3,
   "id": "650743ac",
   "metadata": {},
   "outputs": [
    {
     "name": "stdout",
     "output_type": "stream",
     "text": [
      "Found 394 images belonging to 8 classes.\n"
     ]
    }
   ],
   "source": [
    "test_datagen = ImageDataGenerator(rescale=1./255)\n",
    "test_set = test_datagen.flow_from_directory(\n",
    "        'test_set',\n",
    "        target_size=(64, 64),\n",
    "        batch_size=32,\n",
    "        class_mode='categorical')"
   ]
  },
  {
   "cell_type": "code",
   "execution_count": 4,
   "id": "81b0b244",
   "metadata": {},
   "outputs": [],
   "source": [
    "cnn = tf.keras.models.Sequential()"
   ]
  },
  {
   "cell_type": "code",
   "execution_count": 5,
   "id": "6e433d2f",
   "metadata": {},
   "outputs": [],
   "source": [
    "cnn.add(tf.keras.layers.Conv2D(filters=64 , kernel_size=3 , activation='relu' , input_shape=[64,64,3]))\n",
    "cnn.add(tf.keras.layers.MaxPool2D(pool_size=2,strides=2))"
   ]
  },
  {
   "cell_type": "code",
   "execution_count": 6,
   "id": "e52fa4bf",
   "metadata": {},
   "outputs": [],
   "source": [
    "cnn.add(tf.keras.layers.Conv2D(filters=64 , kernel_size=3 , activation='relu' ))\n",
    "cnn.add(tf.keras.layers.MaxPool2D(pool_size=2 , strides=2))"
   ]
  },
  {
   "cell_type": "code",
   "execution_count": 7,
   "id": "b2b22667",
   "metadata": {},
   "outputs": [],
   "source": [
    "cnn.add(tf.keras.layers.Dropout(0.5))"
   ]
  },
  {
   "cell_type": "code",
   "execution_count": 8,
   "id": "e8f206cc",
   "metadata": {},
   "outputs": [],
   "source": [
    "cnn.add(tf.keras.layers.Flatten())"
   ]
  },
  {
   "cell_type": "code",
   "execution_count": 9,
   "id": "ff0820af",
   "metadata": {},
   "outputs": [],
   "source": [
    "cnn.add(tf.keras.layers.Dense(units=128, activation='relu'))"
   ]
  },
  {
   "cell_type": "code",
   "execution_count": 10,
   "id": "ed087387",
   "metadata": {},
   "outputs": [],
   "source": [
    "cnn.add(tf.keras.layers.Dense(units=8 , activation='softmax'))"
   ]
  },
  {
   "cell_type": "code",
   "execution_count": 11,
   "id": "79a3d7c6",
   "metadata": {},
   "outputs": [],
   "source": [
    "cnn.compile(optimizer = 'rmsprop' , loss = 'categorical_crossentropy' , metrics = ['accuracy'])"
   ]
  },
  {
   "cell_type": "code",
   "execution_count": 12,
   "id": "566b505d",
   "metadata": {},
   "outputs": [
    {
     "name": "stdout",
     "output_type": "stream",
     "text": [
      "Epoch 1/30\n",
      "33/33 [==============================] - 168s 5s/step - loss: 1.8029 - accuracy: 0.3677 - val_loss: 1.2824 - val_accuracy: 0.4670\n",
      "Epoch 2/30\n",
      "33/33 [==============================] - 144s 4s/step - loss: 1.2117 - accuracy: 0.5846 - val_loss: 0.8779 - val_accuracy: 0.6701\n",
      "Epoch 3/30\n",
      "33/33 [==============================] - 132s 4s/step - loss: 0.9449 - accuracy: 0.6887 - val_loss: 0.6170 - val_accuracy: 0.7893\n",
      "Epoch 4/30\n",
      "33/33 [==============================] - 144s 4s/step - loss: 0.7436 - accuracy: 0.7471 - val_loss: 0.3967 - val_accuracy: 0.8756\n",
      "Epoch 5/30\n",
      "33/33 [==============================] - 148s 5s/step - loss: 0.6674 - accuracy: 0.7821 - val_loss: 0.4915 - val_accuracy: 0.8223\n",
      "Epoch 6/30\n",
      "33/33 [==============================] - 147s 4s/step - loss: 0.5833 - accuracy: 0.8045 - val_loss: 0.2742 - val_accuracy: 0.9061\n",
      "Epoch 7/30\n",
      "33/33 [==============================] - 121s 4s/step - loss: 0.4994 - accuracy: 0.8259 - val_loss: 0.2895 - val_accuracy: 0.9112\n",
      "Epoch 8/30\n",
      "33/33 [==============================] - 136s 4s/step - loss: 0.4838 - accuracy: 0.8453 - val_loss: 0.2649 - val_accuracy: 0.9112\n",
      "Epoch 9/30\n",
      "33/33 [==============================] - 135s 4s/step - loss: 0.4354 - accuracy: 0.8541 - val_loss: 0.3494 - val_accuracy: 0.8909\n",
      "Epoch 10/30\n",
      "33/33 [==============================] - 149s 5s/step - loss: 0.3568 - accuracy: 0.8755 - val_loss: 0.2119 - val_accuracy: 0.9213\n",
      "Epoch 11/30\n",
      "33/33 [==============================] - 145s 4s/step - loss: 0.3468 - accuracy: 0.8842 - val_loss: 0.7019 - val_accuracy: 0.7614\n",
      "Epoch 12/30\n",
      "33/33 [==============================] - 139s 4s/step - loss: 0.3202 - accuracy: 0.8862 - val_loss: 0.1615 - val_accuracy: 0.9543\n",
      "Epoch 13/30\n",
      "33/33 [==============================] - 125s 4s/step - loss: 0.3409 - accuracy: 0.8833 - val_loss: 0.1003 - val_accuracy: 0.9645\n",
      "Epoch 14/30\n",
      "33/33 [==============================] - 144s 4s/step - loss: 0.2960 - accuracy: 0.8901 - val_loss: 0.1006 - val_accuracy: 0.9772\n",
      "Epoch 15/30\n",
      "33/33 [==============================] - 149s 5s/step - loss: 0.2414 - accuracy: 0.9202 - val_loss: 0.1135 - val_accuracy: 0.9670\n",
      "Epoch 16/30\n",
      "33/33 [==============================] - 141s 4s/step - loss: 0.2435 - accuracy: 0.9144 - val_loss: 0.1164 - val_accuracy: 0.9670\n",
      "Epoch 17/30\n",
      "33/33 [==============================] - 144s 4s/step - loss: 0.2341 - accuracy: 0.9212 - val_loss: 0.1013 - val_accuracy: 0.9695\n",
      "Epoch 18/30\n",
      "33/33 [==============================] - 129s 4s/step - loss: 0.1870 - accuracy: 0.9329 - val_loss: 0.1845 - val_accuracy: 0.9340\n",
      "Epoch 19/30\n",
      "33/33 [==============================] - 141s 4s/step - loss: 0.1831 - accuracy: 0.9377 - val_loss: 0.1308 - val_accuracy: 0.9391\n",
      "Epoch 20/30\n",
      "33/33 [==============================] - 136s 4s/step - loss: 0.1881 - accuracy: 0.9319 - val_loss: 0.0385 - val_accuracy: 0.9898\n",
      "Epoch 21/30\n",
      "33/33 [==============================] - 130s 4s/step - loss: 0.2194 - accuracy: 0.9358 - val_loss: 0.0686 - val_accuracy: 0.9797\n",
      "Epoch 22/30\n",
      "33/33 [==============================] - 138s 4s/step - loss: 0.1719 - accuracy: 0.9368 - val_loss: 0.1827 - val_accuracy: 0.9213\n",
      "Epoch 23/30\n",
      "33/33 [==============================] - 152s 5s/step - loss: 0.2468 - accuracy: 0.9202 - val_loss: 0.0425 - val_accuracy: 0.9924\n",
      "Epoch 24/30\n",
      "33/33 [==============================] - 179s 5s/step - loss: 0.1418 - accuracy: 0.9553 - val_loss: 0.0688 - val_accuracy: 0.9822\n",
      "Epoch 25/30\n",
      "33/33 [==============================] - 173s 5s/step - loss: 0.1490 - accuracy: 0.9572 - val_loss: 0.0657 - val_accuracy: 0.9695\n",
      "Epoch 26/30\n",
      "33/33 [==============================] - 183s 6s/step - loss: 0.1445 - accuracy: 0.9484 - val_loss: 0.0744 - val_accuracy: 0.9772\n",
      "Epoch 27/30\n",
      "33/33 [==============================] - 177s 5s/step - loss: 0.1560 - accuracy: 0.9475 - val_loss: 0.0597 - val_accuracy: 0.9797\n",
      "Epoch 28/30\n",
      "33/33 [==============================] - 174s 5s/step - loss: 0.1609 - accuracy: 0.9446 - val_loss: 0.0417 - val_accuracy: 0.9873\n",
      "Epoch 29/30\n",
      "33/33 [==============================] - 166s 5s/step - loss: 0.1163 - accuracy: 0.9621 - val_loss: 0.0614 - val_accuracy: 0.9797\n",
      "Epoch 30/30\n",
      "33/33 [==============================] - 160s 5s/step - loss: 0.1197 - accuracy: 0.9621 - val_loss: 0.0267 - val_accuracy: 0.9949\n"
     ]
    },
    {
     "data": {
      "text/plain": [
       "<keras.callbacks.History at 0x24839e4c220>"
      ]
     },
     "execution_count": 12,
     "metadata": {},
     "output_type": "execute_result"
    }
   ],
   "source": [
    "cnn.fit(x = training_set , validation_data = test_set , epochs = 30)"
   ]
  },
  {
   "cell_type": "code",
   "execution_count": 13,
   "id": "152c5a08",
   "metadata": {},
   "outputs": [],
   "source": [
    "cnn.save(\"leafindt.h5\")"
   ]
  },
  {
   "cell_type": "code",
   "execution_count": 14,
   "id": "1ba33ea6",
   "metadata": {},
   "outputs": [],
   "source": [
    "from tensorflow import keras\n",
    "model = keras.models.load_model('leafindt.h5')"
   ]
  },
  {
   "cell_type": "code",
   "execution_count": 20,
   "id": "637268d7",
   "metadata": {},
   "outputs": [
    {
     "name": "stdout",
     "output_type": "stream",
     "text": [
      "1/1 [==============================] - 2s 2s/step\n"
     ]
    }
   ],
   "source": [
    "from keras_preprocessing import image\n",
    "import numpy as np\n",
    "\n",
    "prediction_img= image.load_img('Predection/11.jpg', target_size=(64,64))\n",
    "prediction_img = image.img_to_array(prediction_img)\n",
    "prediction_img = np.expand_dims(prediction_img,axis=0)\n",
    "\n",
    "# predicting image\n",
    "result = model.predict(prediction_img)"
   ]
  },
  {
   "cell_type": "code",
   "execution_count": 21,
   "id": "831f6f30",
   "metadata": {},
   "outputs": [
    {
     "name": "stdout",
     "output_type": "stream",
     "text": [
      "[[0. 0. 0. 0. 0. 0. 1. 0.]]\n"
     ]
    }
   ],
   "source": [
    "print(result)"
   ]
  },
  {
   "cell_type": "code",
   "execution_count": 23,
   "id": "a0e76c2a",
   "metadata": {},
   "outputs": [
    {
     "name": "stdout",
     "output_type": "stream",
     "text": [
      "NEEM\n"
     ]
    }
   ],
   "source": [
    "if result[0][0]==1:\n",
    "    print('PAN')\n",
    "elif result[0][1]==1:\n",
    "    print('GUAVA')\n",
    "elif result[0][2]==1:\n",
    "    print('JOBA')\n",
    "elif result[0][3]==1:\n",
    "    print('LEMON')\n",
    "elif result[0][4]==1:\n",
    "    print('MANGO')\n",
    "elif result[0][5]==1:\n",
    "    print('MINT')\n",
    "elif result[0][6]==1:\n",
    "    print('NEEM')\n",
    "elif result[0][7]==1:\n",
    "    print('TULSI')\n"
   ]
  }
 ],
 "metadata": {
  "kernelspec": {
   "display_name": "Python 3 (ipykernel)",
   "language": "python",
   "name": "python3"
  },
  "language_info": {
   "codemirror_mode": {
    "name": "ipython",
    "version": 3
   },
   "file_extension": ".py",
   "mimetype": "text/x-python",
   "name": "python",
   "nbconvert_exporter": "python",
   "pygments_lexer": "ipython3",
   "version": "3.9.12"
  }
 },
 "nbformat": 4,
 "nbformat_minor": 5
}
